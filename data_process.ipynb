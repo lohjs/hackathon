{
 "cells": [
  {
   "cell_type": "code",
   "execution_count": 31,
   "id": "5246c975",
   "metadata": {},
   "outputs": [],
   "source": [
    "import pandas as pd"
   ]
  },
  {
   "cell_type": "code",
   "execution_count": 32,
   "id": "1353e45d",
   "metadata": {},
   "outputs": [],
   "source": [
    "items = pd.read_csv(\"dataset/items.csv\")\n",
    "keywords = pd.read_csv(\"dataset/keywords.csv\")\n",
    "merchant = pd.read_csv(\"dataset/merchant.csv\")\n",
    "transaction_data = pd.read_csv(\"dataset/transaction_data.csv\")\n",
    "transaction_items = pd.read_csv(\"dataset/transaction_items.csv\")"
   ]
  },
  {
   "cell_type": "code",
   "execution_count": 33,
   "id": "92fbff14",
   "metadata": {},
   "outputs": [],
   "source": [
    "merged_orders = pd.merge(\n",
    "    transaction_data,\n",
    "    transaction_items,\n",
    "    on=\"order_id\"\n",
    ")\n",
    "\n",
    "merged_orders = pd.merge(\n",
    "    merged_orders,\n",
    "    items,\n",
    "    on=\"item_id\"\n",
    ")\n",
    "\n",
    "merged_data = pd.merge(\n",
    "    merged_orders,\n",
    "    merchant,\n",
    "    on=\"merchant_id\"\n",
    ")"
   ]
  },
  {
   "cell_type": "code",
   "execution_count": 34,
   "id": "95c7f5f9",
   "metadata": {},
   "outputs": [],
   "source": [
    "selected_columns = ['order_id', 'order_time', 'driver_arrival_time', 'driver_pickup_time', 'delivery_time', 'eater_id', 'merchant_id', 'item_id', 'cuisine_tag', 'item_name', 'item_price', 'merchant_name', 'join_date', 'city_id']\n",
    "\n",
    "merged_data = pd.DataFrame(merged_data, columns=selected_columns)"
   ]
  },
  {
   "cell_type": "code",
   "execution_count": 35,
   "id": "f9f31bf4",
   "metadata": {},
   "outputs": [
    {
     "data": {
      "text/html": [
       "<div>\n",
       "<style scoped>\n",
       "    .dataframe tbody tr th:only-of-type {\n",
       "        vertical-align: middle;\n",
       "    }\n",
       "\n",
       "    .dataframe tbody tr th {\n",
       "        vertical-align: top;\n",
       "    }\n",
       "\n",
       "    .dataframe thead th {\n",
       "        text-align: right;\n",
       "    }\n",
       "</style>\n",
       "<table border=\"1\" class=\"dataframe\">\n",
       "  <thead>\n",
       "    <tr style=\"text-align: right;\">\n",
       "      <th></th>\n",
       "      <th>order_id</th>\n",
       "      <th>order_time</th>\n",
       "      <th>driver_arrival_time</th>\n",
       "      <th>driver_pickup_time</th>\n",
       "      <th>delivery_time</th>\n",
       "      <th>eater_id</th>\n",
       "      <th>merchant_id</th>\n",
       "      <th>item_id</th>\n",
       "      <th>cuisine_tag</th>\n",
       "      <th>item_name</th>\n",
       "      <th>item_price</th>\n",
       "      <th>merchant_name</th>\n",
       "      <th>join_date</th>\n",
       "      <th>city_id</th>\n",
       "    </tr>\n",
       "  </thead>\n",
       "  <tbody>\n",
       "    <tr>\n",
       "      <th>0</th>\n",
       "      <td>46975df1c</td>\n",
       "      <td>2023-11-07 09:49:00</td>\n",
       "      <td>2023-11-07 09:58:00</td>\n",
       "      <td>2023-11-07 10:06:00</td>\n",
       "      <td>2023-11-07 10:34:00</td>\n",
       "      <td>3411548704</td>\n",
       "      <td>e7a2f</td>\n",
       "      <td>10</td>\n",
       "      <td>French</td>\n",
       "      <td>Mushroom &amp; Herb Crepe</td>\n",
       "      <td>7.50</td>\n",
       "      <td>Crepe Delight</td>\n",
       "      <td>1092021</td>\n",
       "      <td>4</td>\n",
       "    </tr>\n",
       "    <tr>\n",
       "      <th>1</th>\n",
       "      <td>7623ebe9d</td>\n",
       "      <td>2023-03-25 15:06:00</td>\n",
       "      <td>2023-03-25 15:12:00</td>\n",
       "      <td>2023-03-25 15:14:00</td>\n",
       "      <td>2023-03-25 15:30:00</td>\n",
       "      <td>4306408630</td>\n",
       "      <td>5f1d3</td>\n",
       "      <td>101</td>\n",
       "      <td>Seafood</td>\n",
       "      <td>Classic Fish &amp; Chips</td>\n",
       "      <td>10.00</td>\n",
       "      <td>Seafood Express</td>\n",
       "      <td>19012021</td>\n",
       "      <td>5</td>\n",
       "    </tr>\n",
       "    <tr>\n",
       "      <th>2</th>\n",
       "      <td>7623ebe9d</td>\n",
       "      <td>2023-03-25 15:06:00</td>\n",
       "      <td>2023-03-25 15:12:00</td>\n",
       "      <td>2023-03-25 15:14:00</td>\n",
       "      <td>2023-03-25 15:30:00</td>\n",
       "      <td>4306408630</td>\n",
       "      <td>9a8c5</td>\n",
       "      <td>56</td>\n",
       "      <td>Vegetarian</td>\n",
       "      <td>Lentil Shepherd’s Pie</td>\n",
       "      <td>9.00</td>\n",
       "      <td>Veggie World</td>\n",
       "      <td>31052014</td>\n",
       "      <td>5</td>\n",
       "    </tr>\n",
       "    <tr>\n",
       "      <th>3</th>\n",
       "      <td>7623ebe9d</td>\n",
       "      <td>2023-03-25 15:06:00</td>\n",
       "      <td>2023-03-25 15:12:00</td>\n",
       "      <td>2023-03-25 15:14:00</td>\n",
       "      <td>2023-03-25 15:30:00</td>\n",
       "      <td>4306408630</td>\n",
       "      <td>3d9c8</td>\n",
       "      <td>44</td>\n",
       "      <td>Beverage</td>\n",
       "      <td>Plum Soda</td>\n",
       "      <td>2.75</td>\n",
       "      <td>Teriyaki Express</td>\n",
       "      <td>28082016</td>\n",
       "      <td>8</td>\n",
       "    </tr>\n",
       "    <tr>\n",
       "      <th>4</th>\n",
       "      <td>01c4be3f6</td>\n",
       "      <td>2023-10-24 06:59:00</td>\n",
       "      <td>2023-10-24 07:17:00</td>\n",
       "      <td>2023-10-24 07:23:00</td>\n",
       "      <td>2023-10-24 07:43:00</td>\n",
       "      <td>4695092599</td>\n",
       "      <td>3b7f0</td>\n",
       "      <td>36</td>\n",
       "      <td>Dessert</td>\n",
       "      <td>Strawberry Frosted Donut</td>\n",
       "      <td>2.00</td>\n",
       "      <td>Donut Palace</td>\n",
       "      <td>11122016</td>\n",
       "      <td>2</td>\n",
       "    </tr>\n",
       "  </tbody>\n",
       "</table>\n",
       "</div>"
      ],
      "text/plain": [
       "    order_id           order_time  driver_arrival_time   driver_pickup_time  \\\n",
       "0  46975df1c  2023-11-07 09:49:00  2023-11-07 09:58:00  2023-11-07 10:06:00   \n",
       "1  7623ebe9d  2023-03-25 15:06:00  2023-03-25 15:12:00  2023-03-25 15:14:00   \n",
       "2  7623ebe9d  2023-03-25 15:06:00  2023-03-25 15:12:00  2023-03-25 15:14:00   \n",
       "3  7623ebe9d  2023-03-25 15:06:00  2023-03-25 15:12:00  2023-03-25 15:14:00   \n",
       "4  01c4be3f6  2023-10-24 06:59:00  2023-10-24 07:17:00  2023-10-24 07:23:00   \n",
       "\n",
       "         delivery_time    eater_id merchant_id  item_id cuisine_tag  \\\n",
       "0  2023-11-07 10:34:00  3411548704       e7a2f       10      French   \n",
       "1  2023-03-25 15:30:00  4306408630       5f1d3      101     Seafood   \n",
       "2  2023-03-25 15:30:00  4306408630       9a8c5       56  Vegetarian   \n",
       "3  2023-03-25 15:30:00  4306408630       3d9c8       44    Beverage   \n",
       "4  2023-10-24 07:43:00  4695092599       3b7f0       36     Dessert   \n",
       "\n",
       "                  item_name  item_price     merchant_name  join_date  city_id  \n",
       "0     Mushroom & Herb Crepe        7.50     Crepe Delight    1092021        4  \n",
       "1      Classic Fish & Chips       10.00   Seafood Express   19012021        5  \n",
       "2     Lentil Shepherd’s Pie        9.00      Veggie World   31052014        5  \n",
       "3                 Plum Soda        2.75  Teriyaki Express   28082016        8  \n",
       "4  Strawberry Frosted Donut        2.00      Donut Palace   11122016        2  "
      ]
     },
     "execution_count": 35,
     "metadata": {},
     "output_type": "execute_result"
    }
   ],
   "source": [
    "merged_data.head()"
   ]
  },
  {
   "cell_type": "code",
   "execution_count": 36,
   "id": "77ed4847",
   "metadata": {},
   "outputs": [
    {
     "data": {
      "text/plain": [
       "(2999808, 14)"
      ]
     },
     "execution_count": 36,
     "metadata": {},
     "output_type": "execute_result"
    }
   ],
   "source": [
    "merged_data.shape"
   ]
  },
  {
   "cell_type": "code",
   "execution_count": 37,
   "id": "98ecbcd3",
   "metadata": {},
   "outputs": [
    {
     "name": "stdout",
     "output_type": "stream",
     "text": [
      "<class 'pandas.core.frame.DataFrame'>\n",
      "RangeIndex: 2999808 entries, 0 to 2999807\n",
      "Data columns (total 14 columns):\n",
      " #   Column               Dtype  \n",
      "---  ------               -----  \n",
      " 0   order_id             object \n",
      " 1   order_time           object \n",
      " 2   driver_arrival_time  object \n",
      " 3   driver_pickup_time   object \n",
      " 4   delivery_time        object \n",
      " 5   eater_id             int64  \n",
      " 6   merchant_id          object \n",
      " 7   item_id              int64  \n",
      " 8   cuisine_tag          object \n",
      " 9   item_name            object \n",
      " 10  item_price           float64\n",
      " 11  merchant_name        object \n",
      " 12  join_date            int64  \n",
      " 13  city_id              int64  \n",
      "dtypes: float64(1), int64(4), object(9)\n",
      "memory usage: 320.4+ MB\n",
      "None\n"
     ]
    }
   ],
   "source": [
    "print(merged_data.info())"
   ]
  },
  {
   "cell_type": "code",
   "execution_count": 38,
   "id": "d54e5459",
   "metadata": {},
   "outputs": [
    {
     "name": "stdout",
     "output_type": "stream",
     "text": [
      "order_id               0\n",
      "order_time             0\n",
      "driver_arrival_time    0\n",
      "driver_pickup_time     0\n",
      "delivery_time          0\n",
      "eater_id               0\n",
      "merchant_id            0\n",
      "item_id                0\n",
      "cuisine_tag            0\n",
      "item_name              0\n",
      "item_price             0\n",
      "merchant_name          0\n",
      "join_date              0\n",
      "city_id                0\n",
      "dtype: int64\n"
     ]
    }
   ],
   "source": [
    "print(merged_data.isnull().sum())"
   ]
  },
  {
   "cell_type": "code",
   "execution_count": 39,
   "id": "5280f948",
   "metadata": {},
   "outputs": [],
   "source": [
    "merged_data.to_csv(\"dataset/merged_data.csv\", index=False)"
   ]
  }
 ],
 "metadata": {
  "kernelspec": {
   "display_name": "venv",
   "language": "python",
   "name": "python3"
  },
  "language_info": {
   "codemirror_mode": {
    "name": "ipython",
    "version": 3
   },
   "file_extension": ".py",
   "mimetype": "text/x-python",
   "name": "python",
   "nbconvert_exporter": "python",
   "pygments_lexer": "ipython3",
   "version": "3.12.10"
  }
 },
 "nbformat": 4,
 "nbformat_minor": 5
}
